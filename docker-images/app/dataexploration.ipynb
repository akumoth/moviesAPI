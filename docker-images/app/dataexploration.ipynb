{
 "cells": [
  {
   "cell_type": "code",
   "execution_count": null,
   "id": "75ede3e4",
   "metadata": {},
   "outputs": [],
   "source": [
    "import pandas as pd\n",
    "import numpy as np\n",
    "import matplotlib.pyplot as plt\n",
    "import seaborn as sns\n",
    "import peewee as pw\n",
    "\n",
    "# Inicializamos todos los dataframes iniciales\n",
    "\n",
    "amazonDf = pd.read_csv(\"/app/Datasets/amazon_prime_titles.csv\")\n",
    "disneyDf = pd.read_csv(\"/app/Datasets/disney_plus_titles.csv\")\n",
    "huluDf = pd.read_csv(\"/app/Datasets/hulu_titles.csv\")\n",
    "netflixDf = pd.read_json(\"/app/Datasets/netflix_titles.json\")\n",
    "\n",
    "# Inicializamos la database\n",
    "\n",
    "db = pw.SqliteDatabase('movies.db')\n"
   ]
  },
  {
   "cell_type": "code",
   "execution_count": null,
   "id": "df07b30b",
   "metadata": {},
   "outputs": [],
   "source": [
    "# Creamos las funciones necesarias\n",
    "\n",
    "def concatStrings(loc, x, y):\n",
    "    a = loc.split(', ')\n",
    "    if (x or y) in a:\n",
    "        a.append(x + ' & ' + y)\n",
    "    if x in a:\n",
    "        a.remove(x)\n",
    "    if y in a:\n",
    "        a.remove(y)\n",
    "    return ', '.join(a)\n",
    "\n",
    "def eitherStrings(loc, x, y, z):\n",
    "    a = loc.split(', ')\n",
    "    if (x or y) in a:\n",
    "        a.append(z)\n",
    "    if x in a:\n",
    "        a.remove(x)\n",
    "    if y in a:\n",
    "        a.remove(y)\n",
    "    return ', '.join(a)\n"
   ]
  },
  {
   "cell_type": "code",
   "execution_count": null,
   "id": "7b987f5e",
   "metadata": {},
   "outputs": [],
   "source": [
    "# Soltamos todos los valores duplicados\n",
    "\n",
    "amazonDf.drop_duplicates(inplace=True)\n",
    "disneyDf.drop_duplicates(inplace=True)\n",
    "huluDf.drop_duplicates(inplace=True)\n",
    "netflixDf.drop_duplicates(inplace=True)"
   ]
  },
  {
   "cell_type": "code",
   "execution_count": null,
   "id": "bae19a89",
   "metadata": {},
   "outputs": [],
   "source": [
    "# Estandarizamos las tablas\n",
    "\n",
    "# Empezando por limpiar generos, y igualarlos donde haga falta\n",
    "\n",
    "# Amazon\n",
    "\n",
    "amazonDf.listed_in = amazonDf.listed_in.str.replace('Arthouse, ','')\n",
    "amazonDf.listed_in = amazonDf.listed_in.str.replace('Arthouse','')\n",
    "amazonDf.listed_in = amazonDf.listed_in.str.replace('and Culture, ','')\n",
    "amazonDf.listed_in = amazonDf.listed_in.str.replace('and Culture','')\n",
    "amazonDf.listed_in = amazonDf.listed_in.str.replace('Music Videos and Concerts','Concert Film')\n",
    "amazonDf.listed_in = amazonDf.listed_in.str.replace('Young Adult Audience','Teen')\n",
    "amazonDf.listed_in = amazonDf.listed_in.str.replace('Faith and Spirituality','Faith & Spirituality')\n",
    "amazonDf.listed_in = [concatStrings(loc, 'Science Fiction','Fantasy') for loc in amazonDf.listed_in]\n",
    "amazonDf.listed_in = [concatStrings(loc, 'Action','Adventure') for loc in amazonDf.listed_in]"
   ]
  },
  {
   "cell_type": "code",
   "execution_count": null,
   "id": "d2603496",
   "metadata": {},
   "outputs": [],
   "source": [
    "# Disney\n",
    "\n",
    "disneyDf.listed_in = disneyDf.listed_in.str.replace('Action-Adventure','Action & Adventure')\n",
    "disneyDf.listed_in = disneyDf.listed_in.str.replace('Animals & Nature','Science & Nature')\n",
    "disneyDf.listed_in = disneyDf.listed_in.str.replace('Soap Opera / Melodrama','Drama')\n",
    "disneyDf.listed_in = disneyDf.listed_in.str.replace('Docuseries','Documentary')\n",
    "disneyDf.listed_in = disneyDf.listed_in.str.replace('Game Show / Competition','Game Shows')\n",
    "disneyDf.listed_in = [concatStrings(loc, 'Music','Musical') for loc in disneyDf.listed_in]\n",
    "disneyDf.listed_in = [concatStrings(loc, 'Talk Show','Variety') for loc in disneyDf.listed_in]\n",
    "disneyDf.listed_in = disneyDf.listed_in.str.replace(', Movies','')\n",
    "disneyDf.listed_in = disneyDf.listed_in.str.replace('Movies','')\n",
    "disneyDf.listed_in = disneyDf.listed_in.str.replace(', Series','')\n",
    "disneyDf.listed_in = disneyDf.listed_in.str.replace('Series','')\n",
    "disneyDf.listed_in = disneyDf.listed_in.str.replace('Police/Cop','Crime')\n",
    "disneyDf.listed_in = disneyDf.listed_in.str.replace(', Romantic Comedy','')"
   ]
  },
  {
   "cell_type": "code",
   "execution_count": null,
   "id": "3d119f3d",
   "metadata": {},
   "outputs": [
    {
     "name": "stderr",
     "output_type": "stream",
     "text": [
      "/tmp/ipykernel_5623/3306619303.py:5: FutureWarning: The default value of regex will change from True to False in a future version.\n",
      "  huluDf.listed_in = huluDf.listed_in.str.replace('LGBTQ+','LGBTQ')\n"
     ]
    }
   ],
   "source": [
    "# Hulu\n",
    "\n",
    "huluDf.listed_in = huluDf.listed_in.str.replace('History','Historical')\n",
    "huluDf.listed_in = huluDf.listed_in.str.replace('Documentaries','Documentary')\n",
    "huluDf.listed_in = huluDf.listed_in.str.replace('LGBTQ+','LGBTQ')\n",
    "huluDf.listed_in = huluDf.listed_in.str.replace('Music','Music & Musical')\n",
    "huluDf.listed_in = huluDf.listed_in.str.replace('Science Fiction','Sci-Fi and Fantasy')\n",
    "huluDf.listed_in = huluDf.listed_in.str.replace('Science & Technology', 'Science & Nature')\n",
    "huluDf.listed_in = huluDf.listed_in.str.replace('Lifestyle & Culture','Lifestyle')\n",
    "huluDf.listed_in = [concatStrings(loc, 'Action','Adventure') for loc in huluDf.listed_in]\n",
    "huluDf.listed_in = [eitherStrings(loc, 'Adult Animation','Cartoons','Animation') for loc in huluDf.listed_in]\n",
    "netflixDf.listed_in = netflixDf.listed_in.str.replace(r'^[\\W_]+|[\\W_]+$','')\n",
    "netflixDf.listed_in = netflixDf.listed_in.str.replace('  ',' ')\n",
    "netflixDf.listed_in = netflixDf.listed_in.str.replace(' , ',', ')"
   ]
  },
  {
   "cell_type": "code",
   "execution_count": null,
   "id": "d5f879dd",
   "metadata": {},
   "outputs": [
    {
     "name": "stderr",
     "output_type": "stream",
     "text": [
      "/tmp/ipykernel_5623/1290722387.py:7: FutureWarning: The default value of regex will change from True to False in a future version.\n",
      "  netflixDf.listed_in = netflixDf.listed_in.str.replace('LGBTQ+','LGBTQ')\n",
      "/tmp/ipykernel_5623/1290722387.py:20: FutureWarning: The default value of regex will change from True to False in a future version.\n",
      "  netflixDf.listed_in = netflixDf.listed_in.str.replace(r'^[\\W_]+|[\\W_]+$','')\n"
     ]
    }
   ],
   "source": [
    "# Netflix\n",
    "\n",
    "netflixDf.listed_in = netflixDf.listed_in.str.replace(\"Kids' TV\",'Kids')\n",
    "netflixDf.listed_in = netflixDf.listed_in.str.replace('Dramas','Drama')\n",
    "netflixDf.listed_in = netflixDf.listed_in.str.replace('TV Shows','')\n",
    "netflixDf.listed_in = netflixDf.listed_in.str.replace('TV','')\n",
    "netflixDf.listed_in = netflixDf.listed_in.str.replace('LGBTQ+','LGBTQ')\n",
    "netflixDf.listed_in = netflixDf.listed_in.str.replace('Movies','')\n",
    "netflixDf.listed_in = netflixDf.listed_in.str.replace('Thrillers','Thriller')\n",
    "netflixDf.listed_in = netflixDf.listed_in.str.replace('Musicals','Musical')\n",
    "netflixDf.listed_in = netflixDf.listed_in.str.replace('Stand-Up Comedy & Talk Shows','Stand Up, Talk Show')\n",
    "netflixDf.listed_in = netflixDf.listed_in.str.replace('Stand-Up Comedy','Stand Up')\n",
    "netflixDf.listed_in = netflixDf.listed_in.str.replace('Mysteries','Mystery')\n",
    "netflixDf.listed_in = netflixDf.listed_in.str.replace('Comedies','Comedy')\n",
    "netflixDf.listed_in = netflixDf.listed_in.str.replace('Children & Family','Family')\n",
    "netflixDf.listed_in = [eitherStrings(loc, 'Anime Features','Anime Series','Anime') for loc in netflixDf.listed_in]\n",
    "netflixDf.listed_in = [eitherStrings(loc, 'Documentaries','Docuseries','Documentary') for loc in netflixDf.listed_in]\n",
    "netflixDf.listed_in = [eitherStrings(loc, 'Horror Movies','TV Horror','Horror') for loc in netflixDf.listed_in]\n",
    "netflixDf.listed_in = [eitherStrings(loc, 'Classic','Cult','Classic & Cult') for loc in netflixDf.listed_in]\n",
    "netflixDf.listed_in = netflixDf.listed_in.str.replace(r'^[\\W_]+|[\\W_]+$','')\n",
    "netflixDf.listed_in = netflixDf.listed_in.str.replace('  ',' ')\n",
    "netflixDf.listed_in = netflixDf.listed_in.str.replace(' , ',', ')"
   ]
  },
  {
   "cell_type": "code",
   "execution_count": null,
   "id": "de8575be",
   "metadata": {},
   "outputs": [
    {
     "data": {
      "text/plain": [
       "Index(['Action & Adventure', 'Animation', 'Anime', 'Arts', 'Comedy',\n",
       "       'Concert Film', 'Documentary', 'Drama', 'Entertainment',\n",
       "       'Faith & Spirituality', 'Fitness', 'Historical', 'Horror',\n",
       "       'International', 'Kids', 'LGBTQ', 'Military and War', 'Romance',\n",
       "       'Science Fiction & Fantasy', 'Special Interest', 'Sports', 'Suspense',\n",
       "       'TV Shows', 'Talk Show and Variety', 'Teen', 'Unscripted', 'Western'],\n",
       "      dtype='object')"
      ]
     },
     "execution_count": 8,
     "metadata": {},
     "output_type": "execute_result"
    }
   ],
   "source": [
    "amazonDf.listed_in.str.get_dummies(sep=', ').columns"
   ]
  },
  {
   "cell_type": "code",
   "execution_count": null,
   "id": "9946edf3",
   "metadata": {},
   "outputs": [
    {
     "data": {
      "text/plain": [
       "Index(['Action & Adventure', 'Animation', 'Anime', 'Anthology', 'Biographical',\n",
       "       'Buddy', 'Comedy', 'Coming of Age', 'Concert Film', 'Crime', 'Dance',\n",
       "       'Disaster', 'Documentary', 'Drama', 'Family', 'Fantasy', 'Game Shows',\n",
       "       'Historical', 'Kids', 'Lifestyle', 'Medical', 'Music & Musical',\n",
       "       'Mystery', 'Parody', 'Reality', 'Romance', 'Science & Nature',\n",
       "       'Science Fiction', 'Sports', 'Spy/Espionage', 'Superhero', 'Survival',\n",
       "       'Talk Show & Variety', 'Thriller', 'Travel', 'Western'],\n",
       "      dtype='object')"
      ]
     },
     "execution_count": 9,
     "metadata": {},
     "output_type": "execute_result"
    }
   ],
   "source": [
    "disneyDf.listed_in.str.get_dummies(sep=', ').columns"
   ]
  },
  {
   "cell_type": "code",
   "execution_count": null,
   "id": "82a803a6",
   "metadata": {},
   "outputs": [
    {
     "data": {
      "text/plain": [
       "Index(['Action & Adventure', 'Animation', 'Anime', 'Black Stories', 'Classics',\n",
       "       'Comedy', 'Cooking & Food', 'Crime', 'Documentary', 'Drama', 'Family',\n",
       "       'Game Shows', 'Health & Wellness', 'Historical', 'Horror',\n",
       "       'International', 'Kids', 'LGBTQ+', 'Late Night', 'Latino', 'Lifestyle',\n",
       "       'Music & Musical', 'Mystery', 'News', 'Reality', 'Romance',\n",
       "       'Sci-Fi and Fantasy', 'Science & Nature', 'Sitcom', 'Sketch Comedy',\n",
       "       'Sports', 'Stand Up', 'Teen', 'Thriller'],\n",
       "      dtype='object')"
      ]
     },
     "execution_count": 10,
     "metadata": {},
     "output_type": "execute_result"
    }
   ],
   "source": [
    "huluDf.listed_in.str.contains('LGBTQ+')"
   ]
  },
  {
   "cell_type": "code",
   "execution_count": null,
   "id": "9c9a94e8",
   "metadata": {},
   "outputs": [
    {
     "data": {
      "text/plain": [
       "Index(['Action & Adventure', 'Anime', 'British', 'Classic', 'Classic & Cult',\n",
       "       'Comedy', 'Crime', 'Cult', 'Documentary', 'Drama',\n",
       "       'Faith & Spirituality', 'Family', 'Horror', 'Independent',\n",
       "       'International', 'Kids', 'Korean', 'LGBTQ', 'Music & Musical',\n",
       "       'Mystery', 'Reality', 'Romantic', 'Sci-Fi & Fantasy',\n",
       "       'Science & Nature', 'Spanish-Language', 'Sports', 'Stand Up',\n",
       "       'Talk Show', 'Teen', 'Thriller'],\n",
       "      dtype='object')"
      ]
     },
     "execution_count": 11,
     "metadata": {},
     "output_type": "execute_result"
    }
   ],
   "source": [
    "netflixDf.head()"
   ]
  },
  {
   "cell_type": "code",
   "execution_count": null,
   "id": "28132369",
   "metadata": {},
   "outputs": [],
   "source": [
    "class BaseModel(pw.Model):\n",
    "    class Meta:\n",
    "        database = db\n",
    "\n",
    "class Genre(BaseModel):\n",
    "    name = pw.CharField()\n",
    "        \n",
    "class Actor(BaseModel):\n",
    "    name = pw.CharField()\n",
    "        \n",
    "class Platform(BaseModel):\n",
    "    name = pw.CharField()\n",
    "        \n",
    "class Movie(BaseModel):\n",
    "    year = pw.IntegerField()\n",
    "    title = pw.CharField()\n",
    "    mtype =  pw.CharField()\n",
    "    platform = pw.ForeignKeyField(Platforms, backref=\"movies\")\n",
    "    \n",
    "class MovieGenre(BaseModel):\n",
    "    movie = pw.ForeignKeyField(Movie)\n",
    "    genre =  pw.ForeignKeyField(Genre)\n",
    "    \n",
    "class Cast(BaseModel):\n",
    "    movie = pw.ForeignKeyField(Movie)\n",
    "    actor =  pw.ForeignKeyField(Actor)"
   ]
  },
  {
   "cell_type": "code",
   "execution_count": null,
   "id": "1d386f57",
   "metadata": {},
   "outputs": [
    {
     "data": {
      "text/plain": [
       "True"
      ]
     },
     "execution_count": 14,
     "metadata": {},
     "output_type": "execute_result"
    }
   ],
   "source": [
    "db.connect()"
   ]
  },
  {
   "cell_type": "code",
   "execution_count": null,
   "id": "2ab6a3c7",
   "metadata": {},
   "outputs": [],
   "source": [
    "db.create_tables([Genre, Actor, Platform, Movie, MovieGenre, Cast])"
   ]
  },
  {
   "cell_type": "code",
   "execution_count": null,
   "id": "9719600b",
   "metadata": {},
   "outputs": [],
   "source": [
    "amazonDf.head()"
   ]
  },
  {
   "cell_type": "code",
   "execution_count": null,
   "id": "bdf09349",
   "metadata": {},
   "outputs": [],
   "source": [
    "netflixDf[netflixDf.listed_in == 'Classic & Cult']"
   ]
  }
 ],
 "metadata": {
  "kernelspec": {
   "display_name": "Python 3 (ipykernel)",
   "language": "python",
   "name": "python3"
  },
  "language_info": {
   "codemirror_mode": {
    "name": "ipython",
    "version": 3
   },
   "file_extension": ".py",
   "mimetype": "text/x-python",
   "name": "python",
   "nbconvert_exporter": "python",
   "pygments_lexer": "ipython3",
   "version": "3.11.0"
  }
 },
 "nbformat": 4,
 "nbformat_minor": 5
}
